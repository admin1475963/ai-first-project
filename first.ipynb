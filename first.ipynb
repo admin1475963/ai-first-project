{
 "cells": [
  {
   "cell_type": "code",
   "execution_count": 1,
   "id": "543370d5-b89f-49c0-b922-07bdf90bd78a",
   "metadata": {
    "editable": true,
    "slideshow": {
     "slide_type": ""
    },
    "tags": []
   },
   "outputs": [
    {
     "name": "stderr",
     "output_type": "stream",
     "text": [
      "/home/admin1475963/Projects/university/ai/first-task/.env/lib/python3.13/site-packages/tqdm/auto.py:21: TqdmWarning: IProgress not found. Please update jupyter and ipywidgets. See https://ipywidgets.readthedocs.io/en/stable/user_install.html\n",
      "  from .autonotebook import tqdm as notebook_tqdm\n"
     ]
    }
   ],
   "source": [
    "from langchain_community.document_loaders import PyPDFLoader, CSVLoader\n",
    "from langchain_text_splitters import RecursiveCharacterTextSplitter\n",
    "from langchain_google_genai import GoogleGenerativeAI\n",
    "from langchain_google_genai import GoogleGenerativeAIEmbeddings\n",
    "from langchain_ollama import OllamaEmbeddings, ChatOllama\n",
    "from langchain_openai import OpenAIEmbeddings, ChatOpenAI\n",
    "from langchain_huggingface import HuggingFaceEmbeddings\n",
    "from langchain_chroma import Chroma\n",
    "from langchain_core.prompts import PromptTemplate\n",
    "from typing_extensions import List, TypedDict\n",
    "from typing import Iterator\n",
    "from langchain_core.documents import Document\n",
    "from langgraph.graph import START, StateGraph\n",
    "import getpass\n",
    "import os"
   ]
  },
  {
   "cell_type": "code",
   "execution_count": 2,
   "id": "3bb621d5-6161-4528-b0ed-af6a78d4b9f0",
   "metadata": {},
   "outputs": [],
   "source": [
    "cards_loader = CSVLoader(\"./data/cards.csv\")\n",
    "doc1_loader = PyPDFLoader(\"./data/doc1.pdf\")\n",
    "doc2_loader = PyPDFLoader(\"./data/doc2.pdf\")\n",
    "deepseekpdf_loader = PyPDFLoader(\"./data/DeepSeek_V3.pdf\")"
   ]
  },
  {
   "cell_type": "code",
   "execution_count": 3,
   "id": "cf9764fd-4878-4a7f-916d-54965d87b9b5",
   "metadata": {},
   "outputs": [],
   "source": [
    "cards = cards_loader.load()\n",
    "doc1 = doc1_loader.load()\n",
    "doc2 = doc2_loader.load()\n",
    "doc_deepseek = deepseekpdf_loader.load()"
   ]
  },
  {
   "cell_type": "code",
   "execution_count": 4,
   "id": "dff75633-f1f6-429c-b4cf-3ad3cde81fa2",
   "metadata": {
    "editable": true,
    "slideshow": {
     "slide_type": ""
    },
    "tags": []
   },
   "outputs": [],
   "source": [
    "csv_splitter = RecursiveCharacterTextSplitter(\n",
    "    chunk_size=200, chunk_overlap=20, add_start_index=True\n",
    ")\n",
    "text_splitter = RecursiveCharacterTextSplitter(\n",
    "    chunk_size=500, chunk_overlap=50, add_start_index=True\n",
    ")"
   ]
  },
  {
   "cell_type": "code",
   "execution_count": 5,
   "id": "3dfe570e-38b3-4818-99cc-1a646293b93b",
   "metadata": {
    "editable": true,
    "slideshow": {
     "slide_type": ""
    },
    "tags": []
   },
   "outputs": [],
   "source": [
    "card_splits = csv_splitter.split_documents(cards)\n",
    "doc1_splits = text_splitter.split_documents(doc1)\n",
    "doc2_splits = text_splitter.split_documents(doc2)\n",
    "deepseek_splits = text_splitter.split_documents(doc_deepseek)"
   ]
  },
  {
   "cell_type": "code",
   "execution_count": 13,
   "id": "fa4f9792-e88e-4d99-91b5-9bd4a4e1733e",
   "metadata": {},
   "outputs": [],
   "source": [
    "if not os.environ.get(\"OPENAI_API_KEY\"):\n",
    "  os.environ[\"OPENAI_API_KEY\"] = getpass.getpass(\"Enter API key for OpenAI: \")"
   ]
  },
  {
   "cell_type": "code",
   "execution_count": 7,
   "id": "9d160753-d4b9-4ae3-81d1-c6b7e6066f1d",
   "metadata": {
    "editable": true,
    "slideshow": {
     "slide_type": ""
    },
    "tags": []
   },
   "outputs": [],
   "source": [
    "embeddings = OpenAIEmbeddings(model=\"text-embedding-3-large\")\n",
    "vector_store = Chroma(embedding_function=embeddings, persist_directory=\"./vdb\")"
   ]
  },
  {
   "cell_type": "code",
   "execution_count": 14,
   "id": "866dacd7-f3e1-4a2b-88d6-5995aa6f2f78",
   "metadata": {
    "editable": true,
    "slideshow": {
     "slide_type": ""
    },
    "tags": []
   },
   "outputs": [
    {
     "name": "stdout",
     "output_type": "stream",
     "text": [
      "Cards done\n",
      "doc1 done\n",
      "doc2 done\n",
      "deepseek done\n"
     ]
    }
   ],
   "source": [
    "#_ = vector_store.add_documents(documents=card_splits)\n",
    "print(\"Cards done\")\n",
    "#_ = vector_store.add_documents(documents=doc1_splits)\n",
    "print(\"doc1 done\")\n",
    "#_ = vector_store.add_documents(documents=doc2_splits)\n",
    "print(\"doc2 done\")\n",
    "#_ = vector_store.add_documents(documents=deepseek_splits)\n",
    "print(\"deepseek done\")"
   ]
  },
  {
   "cell_type": "code",
   "execution_count": 9,
   "id": "42cad18a-cdc9-4747-a288-b66fec106b22",
   "metadata": {
    "editable": true,
    "slideshow": {
     "slide_type": ""
    },
    "tags": []
   },
   "outputs": [],
   "source": [
    "prompt = PromptTemplate.from_template(\n",
    "    \"\"\"\n",
    "    Ты помощник-ассистент, который отвечает на вопросы клиента.\n",
    "    Отвечай используя только следующий контекст.\n",
    "    Если ты не знаешь или не нашел ответа, так и скажи.\n",
    "    Если ты нашел несколько ответов, то расскажи о каждой из них.\n",
    "    Вопрос: {question} \n",
    "    Контекст: {context} \n",
    "    Ответ:\n",
    "    \"\"\"\n",
    ")"
   ]
  },
  {
   "cell_type": "code",
   "execution_count": 10,
   "id": "3b7e7e63-bf50-405e-89b1-239f21c51147",
   "metadata": {
    "editable": true,
    "slideshow": {
     "slide_type": ""
    },
    "tags": []
   },
   "outputs": [],
   "source": [
    "llm = ChatOpenAI(model=\"gpt-4o-mini\")"
   ]
  },
  {
   "cell_type": "code",
   "execution_count": 11,
   "id": "666a1ff5-196d-4b38-9c2d-8676fd97e44a",
   "metadata": {
    "editable": true,
    "slideshow": {
     "slide_type": ""
    },
    "tags": []
   },
   "outputs": [],
   "source": [
    "# Define state for application\n",
    "class State(TypedDict):\n",
    "    question: str\n",
    "    context: List[Document]\n",
    "    answer: str\n",
    "\n",
    "\n",
    "# Define application steps\n",
    "def retrieve(state: State):\n",
    "    retrieved_docs = vector_store.similarity_search(state[\"question\"])\n",
    "    for doc in retrieved_docs:\n",
    "        print(f\"{doc.metadata}\\n\")\n",
    "        print(f\"{doc.page_content}\\n\")\n",
    "    return {\"context\": retrieved_docs}\n",
    "\n",
    "\n",
    "def generate(state: State):\n",
    "    docs_content = \"\\n\\n\".join(doc.page_content for doc in state[\"context\"])\n",
    "    messages = prompt.invoke({\"question\": state[\"question\"], \"context\": docs_content})\n",
    "    response = llm.invoke(messages)\n",
    "    return {\"answer\": response.content}\n",
    "\n",
    "\n",
    "# Compile application and test\n",
    "graph_builder = StateGraph(State).add_sequence([retrieve, generate])\n",
    "graph_builder.add_edge(START, \"retrieve\")\n",
    "graph = graph_builder.compile()"
   ]
  },
  {
   "cell_type": "code",
   "execution_count": 17,
   "id": "c8bf0036-7edb-44f5-8e86-f06a688db617",
   "metadata": {
    "editable": true,
    "slideshow": {
     "slide_type": ""
    },
    "tags": []
   },
   "outputs": [
    {
     "name": "stdout",
     "output_type": "stream",
     "text": [
      "{'row': 19, 'source': './data/cards.csv', 'start_index': 0}\n",
      "\n",
      "Service: Снятие наличных и квази-кэш\n",
      "Condition: в других случаях\n",
      "Tariff: 1,5%, минимум 30 руб.\n",
      "\n",
      "{'row': 18, 'source': './data/cards.csv', 'start_index': 0}\n",
      "\n",
      "Service: Снятие наличных и квази-кэш\n",
      "Condition: в любых банкоматах и/или сторонних сервисах из средств, поступивших со вкладов с закончившимся сроком и кредитов, выданных на картсчет\n",
      "Tariff: Бесплатно\n",
      "\n",
      "{'row': 17, 'source': './data/cards.csv', 'start_index': 0}\n",
      "\n",
      "Service: Снятие наличных и квази-кэш\n",
      "Condition: до 100 000 руб. за расчетный период: в других банкоматах при сумме операции от 3000 руб. и/или сторонних сервисах\n",
      "Tariff: Бесплатно\n",
      "\n",
      "{'row': 16, 'source': './data/cards.csv', 'start_index': 0}\n",
      "\n",
      "Service: Снятие наличных и квази-кэш\n",
      "Condition: до 500 000 руб. за расчетный период в банкоматах Тинькофф\n",
      "Tariff: Бесплатно\n",
      "\n",
      "Комиссия за снятие наличных зависит от условий снятия:\n",
      "\n",
      "1. **В других случаях**: комиссия составляет 1,5%, минимум 30 руб.\n",
      "  \n",
      "2. **Бесплатно** в случаях:\n",
      "   - Снятие наличных из средств, поступивших со вкладов с закончившимся сроком и кредитов, выданных на картсчет, в любых банкоматах и/или сторонних сервисах.\n",
      "   - Снятие наличных до 100 000 руб. за расчетный период в других банкоматах при сумме операции от 3000 руб. и/или сторонних сервисах.\n",
      "   - Снятие наличных до 500 000 руб. за расчетный период в банкоматах Тинькофф.\n",
      "\n",
      "Таким образом, в зависимости от выбранного способа снятия наличных, комиссия может варьироваться от бесплатного до 1,5%.\n"
     ]
    }
   ],
   "source": [
    "result = graph.invoke({\"question\": \"Комиссия для снятие наличных\"})\n",
    "print(result[\"answer\"])"
   ]
  },
  {
   "cell_type": "code",
   "execution_count": null,
   "id": "50fe8672-c12e-4e7c-83ce-c205a774623b",
   "metadata": {},
   "outputs": [],
   "source": []
  }
 ],
 "metadata": {
  "kernelspec": {
   "display_name": "AI",
   "language": "python",
   "name": "ai"
  },
  "language_info": {
   "codemirror_mode": {
    "name": "ipython",
    "version": 3
   },
   "file_extension": ".py",
   "mimetype": "text/x-python",
   "name": "python",
   "nbconvert_exporter": "python",
   "pygments_lexer": "ipython3",
   "version": "3.13.1"
  }
 },
 "nbformat": 4,
 "nbformat_minor": 5
}
