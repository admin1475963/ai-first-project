{
 "cells": [
  {
   "cell_type": "code",
   "execution_count": 1,
   "id": "543370d5-b89f-49c0-b922-07bdf90bd78a",
   "metadata": {
    "editable": true,
    "slideshow": {
     "slide_type": ""
    },
    "tags": []
   },
   "outputs": [],
   "source": [
    "from langchain_community.document_loaders import PyPDFLoader, CSVLoader\n",
    "from langchain_text_splitters import RecursiveCharacterTextSplitter\n",
    "from langchain_ollama import OllamaEmbeddings, ChatOllama\n",
    "from langchain_chroma import Chroma\n",
    "from langchain_core.prompts import PromptTemplate\n",
    "from typing_extensions import List, TypedDict\n",
    "from langchain_core.documents import Document\n",
    "from langgraph.graph import START, StateGraph\n",
    "import getpass\n",
    "import os"
   ]
  },
  {
   "cell_type": "code",
   "execution_count": 2,
   "id": "3bb621d5-6161-4528-b0ed-af6a78d4b9f0",
   "metadata": {},
   "outputs": [],
   "source": [
    "cards_loader = CSVLoader(\"./data/cards.csv\")\n",
    "doc1_loader = PyPDFLoader(\"./data/doc1.pdf\")\n",
    "doc2_loader = PyPDFLoader(\"./data/doc2.pdf\")"
   ]
  },
  {
   "cell_type": "code",
   "execution_count": 3,
   "id": "cf9764fd-4878-4a7f-916d-54965d87b9b5",
   "metadata": {},
   "outputs": [],
   "source": [
    "cards = cards_loader.load()\n",
    "doc1 = doc1_loader.load()\n",
    "doc2 = doc2_loader.load()"
   ]
  },
  {
   "cell_type": "code",
   "execution_count": 4,
   "id": "dff75633-f1f6-429c-b4cf-3ad3cde81fa2",
   "metadata": {
    "editable": true,
    "slideshow": {
     "slide_type": ""
    },
    "tags": []
   },
   "outputs": [],
   "source": [
    "csv_splitter = RecursiveCharacterTextSplitter(\n",
    "    chunk_size=200, chunk_overlap=0, add_start_index=True\n",
    ")\n",
    "text_splitter = RecursiveCharacterTextSplitter(\n",
    "    chunk_size=700, chunk_overlap=70, add_start_index=True\n",
    ")"
   ]
  },
  {
   "cell_type": "code",
   "execution_count": 5,
   "id": "3dfe570e-38b3-4818-99cc-1a646293b93b",
   "metadata": {
    "editable": true,
    "slideshow": {
     "slide_type": ""
    },
    "tags": []
   },
   "outputs": [],
   "source": [
    "card_splits = csv_splitter.split_documents(cards)\n",
    "doc1_splits = text_splitter.split_documents(doc1)\n",
    "doc2_splits = text_splitter.split_documents(doc2)"
   ]
  },
  {
   "cell_type": "code",
   "execution_count": 6,
   "id": "9d160753-d4b9-4ae3-81d1-c6b7e6066f1d",
   "metadata": {
    "editable": true,
    "slideshow": {
     "slide_type": ""
    },
    "tags": []
   },
   "outputs": [],
   "source": [
    "embeddings = OllamaEmbeddings(model=\"bge-m3\")\n",
    "vector_store = Chroma(embedding_function=embeddings)"
   ]
  },
  {
   "cell_type": "code",
   "execution_count": 7,
   "id": "866dacd7-f3e1-4a2b-88d6-5995aa6f2f78",
   "metadata": {
    "editable": true,
    "slideshow": {
     "slide_type": ""
    },
    "tags": []
   },
   "outputs": [
    {
     "name": "stdout",
     "output_type": "stream",
     "text": [
      "Cards done\n",
      "doc1 done\n",
      "doc2 done\n"
     ]
    }
   ],
   "source": [
    "_ = vector_store.add_documents(documents=card_splits)\n",
    "print(\"Cards done\")\n",
    "_ = vector_store.add_documents(documents=doc1_splits)\n",
    "print(\"doc1 done\")\n",
    "_ = vector_store.add_documents(documents=doc2_splits)\n",
    "print(\"doc2 done\")"
   ]
  },
  {
   "cell_type": "code",
   "execution_count": 13,
   "id": "42cad18a-cdc9-4747-a288-b66fec106b22",
   "metadata": {
    "editable": true,
    "slideshow": {
     "slide_type": ""
    },
    "tags": []
   },
   "outputs": [],
   "source": [
    "prompt = PromptTemplate.from_template(\n",
    "    \"\"\"\n",
    "    Ты помощник-ассистент, который отвечает на вопросы клиента.\n",
    "    Используй следующий контекст для информации и ответь на вопрос клиента.\n",
    "    Если ты не знаешь или не нашел ответа, так и скажи.\n",
    "    Если ты нашел больше одной информации, то подробно скажи о каждой из них,\n",
    "    но пропусти похожую но не связанную информацию.\n",
    "    Вопрос: {question} \n",
    "    Контекст: {context} \n",
    "    Ответ:\n",
    "    \"\"\"\n",
    ")"
   ]
  },
  {
   "cell_type": "code",
   "execution_count": 14,
   "id": "3b7e7e63-bf50-405e-89b1-239f21c51147",
   "metadata": {
    "editable": true,
    "slideshow": {
     "slide_type": ""
    },
    "tags": []
   },
   "outputs": [],
   "source": [
    "llm = ChatOllama(model=\"llama3.1:8b\")"
   ]
  },
  {
   "cell_type": "code",
   "execution_count": 15,
   "id": "666a1ff5-196d-4b38-9c2d-8676fd97e44a",
   "metadata": {
    "editable": true,
    "slideshow": {
     "slide_type": ""
    },
    "tags": []
   },
   "outputs": [],
   "source": [
    "# Define state for application\n",
    "class State(TypedDict):\n",
    "    question: str\n",
    "    context: List[Document]\n",
    "    answer: str\n",
    "\n",
    "\n",
    "# Define application steps\n",
    "def retrieve(state: State):\n",
    "    retrieved_docs = vector_store.similarity_search(state[\"question\"])\n",
    "    for doc in retrieved_docs:\n",
    "        print(f\"{doc.metadata}\\n\")\n",
    "        print(f\"{doc.page_content}\\n\")\n",
    "    return {\"context\": retrieved_docs}\n",
    "\n",
    "\n",
    "def generate(state: State):\n",
    "    docs_content = \"\\n\\n\".join(doc.page_content for doc in state[\"context\"])\n",
    "    messages = prompt.invoke({\"question\": state[\"question\"], \"context\": docs_content})\n",
    "    response = llm.invoke(messages)\n",
    "    return {\"answer\": response.content}\n",
    "\n",
    "\n",
    "# Compile application and test\n",
    "graph_builder = StateGraph(State).add_sequence([retrieve, generate])\n",
    "graph_builder.add_edge(START, \"retrieve\")\n",
    "graph = graph_builder.compile()"
   ]
  },
  {
   "cell_type": "code",
   "execution_count": 19,
   "id": "c8bf0036-7edb-44f5-8e86-f06a688db617",
   "metadata": {
    "editable": true,
    "slideshow": {
     "slide_type": ""
    },
    "tags": []
   },
   "outputs": [
    {
     "name": "stdout",
     "output_type": "stream",
     "text": [
      "{'row': 14, 'source': './data/cards.csv', 'start_index': 0}\n",
      "\n",
      "Service: Плата за услугу «Оповещение об операциях»\n",
      "Condition: с абонентским номером Тинькофф Мобайл\n",
      "Tariff: 59 руб. в месяц\n",
      "\n",
      "{'row': 15, 'source': './data/cards.csv', 'start_index': 0}\n",
      "\n",
      "Service: Плата за услугу «Оповещение об операциях»\n",
      "Condition: в прочих случаях\n",
      "Tariff: 99 руб. в месяц\n",
      "\n",
      "{'page': 13, 'page_label': '14', 'source': './data/doc1.pdf', 'start_index': 0}\n",
      "\n",
      "14 из 72\n",
      "4.14. Информирование, Оповещение об операциях и SMS-запросы.\n",
      "4.14.1. Информирование — сервис Банка, в рамках которого на Абонентский номер и/или Абонентское устройство Клиента \n",
      "направляются Сообщения:\n",
      "• об изменении статуса Договора, Заявки;\n",
      "• об осуществлении нефинансовых действий по Договору;\n",
      "• об изменении статуса Карты;\n",
      "• иные сведения по усмотрению Банка.\n",
      "4.14.2. Оповещение об операциях — сервис Банка, подключаемый по желанию Клиента и позволяющий Клиенту получать \n",
      "в режиме реального времени на Абонентский номер и/или Абонентское устройство Сообщения о совершенных \n",
      "операциях с использованием Карты/Счета или ее реквизитов за исключением списания Комиссий и Плат.\n",
      "\n",
      "{'row': 8, 'source': './data/cards.csv', 'start_index': 0}\n",
      "\n",
      "Service: Пополнение\n",
      "Condition: у партнеров Тинькофф до 150 000 руб. за расчетный период\n",
      "Tariff: Бесплатно\n",
      "\n"
     ]
    }
   ],
   "source": [
    "result = graph.invoke({\"question\": \"Сколько стоит смс оповещение\"})"
   ]
  },
  {
   "cell_type": "code",
   "execution_count": 20,
   "id": "96da44d1-6c04-48f7-a25a-0e208af94f39",
   "metadata": {
    "editable": true,
    "slideshow": {
     "slide_type": ""
    },
    "tags": []
   },
   "outputs": [
    {
     "name": "stdout",
     "output_type": "stream",
     "text": [
      "Ответ: Вопрос клиента: Сколько стоит смс оповещение \n",
      "\n",
      "На основе контекста, я нашел следующую информацию:\n",
      "\n",
      "- Для абонентского номера Тинькофф Мобайл и тарифа 59 руб. в месяц, плата за услугу \"Оповещение об операциях\" не указана.\n",
      "- Для прочих случаев (не связанных с абонентским номером Тинькофф Мобайл) и тарифа 99 руб. в месяц, плата за услугу \"Оповещение об операциях\" составляет 99 руб. в месяц.\n",
      "\n",
      "Однако, я не нашел информации о стоимости СМС оповещения. Похожая информация есть в пункте 4.14.1 \"Информирование\", где упоминаются Сообщения направляемые на Абонентский номер, но эта информация не связана с оповещением об операциях.\n",
      "\n",
      "Кроме того, я нашел информацию о бесплатном пополнении для партнеров Тинькофф до 150 000 руб. за расчетный период, но она не имеет отношения к вопросу клиента.\n",
      "\n",
      "В заключении, для абонентского номера Тинькофф Мобайл и тарифа 59 руб. в месяц, я не нашел информации о стоимости СМС оповещения, а для прочих случаев (не связанных с абонентским номером Тинькофф Мобайл) и тарифа 99 руб. в месяц плата за услугу \"Оповещение об операциях\" составляет 99 руб. в месяц.\n"
     ]
    }
   ],
   "source": [
    "print(f'Ответ: {result[\"answer\"]}')"
   ]
  },
  {
   "cell_type": "code",
   "execution_count": null,
   "id": "10fe24bc-17f3-44d3-b9a4-7fa44264cefb",
   "metadata": {
    "editable": true,
    "slideshow": {
     "slide_type": ""
    },
    "tags": []
   },
   "outputs": [],
   "source": []
  }
 ],
 "metadata": {
  "kernelspec": {
   "display_name": "AI",
   "language": "python",
   "name": "ai"
  },
  "language_info": {
   "codemirror_mode": {
    "name": "ipython",
    "version": 3
   },
   "file_extension": ".py",
   "mimetype": "text/x-python",
   "name": "python",
   "nbconvert_exporter": "python",
   "pygments_lexer": "ipython3",
   "version": "3.13.1"
  }
 },
 "nbformat": 4,
 "nbformat_minor": 5
}
