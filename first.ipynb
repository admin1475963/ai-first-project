{
 "cells": [
  {
   "cell_type": "code",
   "execution_count": 1,
   "id": "543370d5-b89f-49c0-b922-07bdf90bd78a",
   "metadata": {
    "editable": true,
    "slideshow": {
     "slide_type": ""
    },
    "tags": []
   },
   "outputs": [],
   "source": [
    "from langchain_community.document_loaders import PyPDFLoader, CSVLoader\n",
    "from langchain_text_splitters import RecursiveCharacterTextSplitter\n",
    "from langchain_ollama import OllamaEmbeddings, ChatOllama\n",
    "from langchain_chroma import Chroma\n",
    "from langchain_core.prompts import PromptTemplate\n",
    "from typing_extensions import List, TypedDict\n",
    "from langchain_core.documents import Document\n",
    "from langgraph.graph import START, StateGraph\n",
    "import getpass\n",
    "import os"
   ]
  },
  {
   "cell_type": "code",
   "execution_count": 2,
   "id": "3bb621d5-6161-4528-b0ed-af6a78d4b9f0",
   "metadata": {},
   "outputs": [],
   "source": [
    "cards_loader = CSVLoader(\"./data/cards.csv\")\n",
    "doc1_loader = PyPDFLoader(\"./data/doc1.pdf\")\n",
    "doc2_loader = PyPDFLoader(\"./data/doc2.pdf\")"
   ]
  },
  {
   "cell_type": "code",
   "execution_count": 3,
   "id": "cf9764fd-4878-4a7f-916d-54965d87b9b5",
   "metadata": {},
   "outputs": [],
   "source": [
    "cards = cards_loader.load()\n",
    "doc1 = doc1_loader.load()\n",
    "doc2 = doc2_loader.load()"
   ]
  },
  {
   "cell_type": "code",
   "execution_count": 4,
   "id": "dff75633-f1f6-429c-b4cf-3ad3cde81fa2",
   "metadata": {
    "editable": true,
    "slideshow": {
     "slide_type": ""
    },
    "tags": []
   },
   "outputs": [],
   "source": [
    "csv_splitter = RecursiveCharacterTextSplitter(\n",
    "    chunk_size=200, chunk_overlap=0, add_start_index=True\n",
    ")\n",
    "text_splitter = RecursiveCharacterTextSplitter(\n",
    "    chunk_size=500, chunk_overlap=50, add_start_index=True\n",
    ")"
   ]
  },
  {
   "cell_type": "code",
   "execution_count": 5,
   "id": "3dfe570e-38b3-4818-99cc-1a646293b93b",
   "metadata": {
    "editable": true,
    "slideshow": {
     "slide_type": ""
    },
    "tags": []
   },
   "outputs": [],
   "source": [
    "card_splits = csv_splitter.split_documents(cards)\n",
    "doc1_splits = text_splitter.split_documents(doc1)\n",
    "doc2_splits = text_splitter.split_documents(doc2)"
   ]
  },
  {
   "cell_type": "code",
   "execution_count": 6,
   "id": "9d160753-d4b9-4ae3-81d1-c6b7e6066f1d",
   "metadata": {
    "editable": true,
    "slideshow": {
     "slide_type": ""
    },
    "tags": []
   },
   "outputs": [],
   "source": [
    "embeddings = OllamaEmbeddings(model=\"bge-m3\")\n",
    "vector_store = Chroma(embedding_function=embeddings)"
   ]
  },
  {
   "cell_type": "code",
   "execution_count": 7,
   "id": "866dacd7-f3e1-4a2b-88d6-5995aa6f2f78",
   "metadata": {
    "editable": true,
    "slideshow": {
     "slide_type": ""
    },
    "tags": []
   },
   "outputs": [
    {
     "name": "stdout",
     "output_type": "stream",
     "text": [
      "Cards done\n",
      "doc1 done\n",
      "doc2 done\n"
     ]
    }
   ],
   "source": [
    "_ = vector_store.add_documents(documents=card_splits)\n",
    "print(\"Cards done\")\n",
    "_ = vector_store.add_documents(documents=doc1_splits)\n",
    "print(\"doc1 done\")\n",
    "_ = vector_store.add_documents(documents=doc2_splits)\n",
    "print(\"doc2 done\")"
   ]
  },
  {
   "cell_type": "code",
   "execution_count": 17,
   "id": "42cad18a-cdc9-4747-a288-b66fec106b22",
   "metadata": {
    "editable": true,
    "slideshow": {
     "slide_type": ""
    },
    "tags": []
   },
   "outputs": [],
   "source": [
    "prompt = PromptTemplate.from_template(\n",
    "    \"\"\"\n",
    "    Ты помощник-ассистент, который отвечает на вопросы клиента.\n",
    "    Используй следующий контекст для информации и ответь на вопрос клиента.\n",
    "    Если ты не знаешь или не нашел ответа, так и скажи.\n",
    "    Если ты нашел больше одной информации, то подробно скажи о каждой из них.\n",
    "    Вопрос: {question} \n",
    "    Контекст: {context} \n",
    "    Ответ:\n",
    "    \"\"\"\n",
    ")"
   ]
  },
  {
   "cell_type": "code",
   "execution_count": 18,
   "id": "3b7e7e63-bf50-405e-89b1-239f21c51147",
   "metadata": {
    "editable": true,
    "slideshow": {
     "slide_type": ""
    },
    "tags": []
   },
   "outputs": [],
   "source": [
    "llm = ChatOllama(model=\"llama3.1:8b\")"
   ]
  },
  {
   "cell_type": "code",
   "execution_count": 19,
   "id": "666a1ff5-196d-4b38-9c2d-8676fd97e44a",
   "metadata": {
    "editable": true,
    "slideshow": {
     "slide_type": ""
    },
    "tags": []
   },
   "outputs": [],
   "source": [
    "# Define state for application\n",
    "class State(TypedDict):\n",
    "    question: str\n",
    "    context: List[Document]\n",
    "    answer: str\n",
    "\n",
    "\n",
    "# Define application steps\n",
    "def retrieve(state: State):\n",
    "    retrieved_docs = vector_store.similarity_search(state[\"question\"])\n",
    "    for doc in retrieved_docs:\n",
    "        print(f\"{doc.metadata}\\n\")\n",
    "        print(f\"{doc.page_content}\\n\")\n",
    "    return {\"context\": retrieved_docs}\n",
    "\n",
    "\n",
    "def generate(state: State):\n",
    "    docs_content = \"\\n\\n\".join(doc.page_content for doc in state[\"context\"])\n",
    "    messages = prompt.invoke({\"question\": state[\"question\"], \"context\": docs_content})\n",
    "    response = llm.invoke(messages)\n",
    "    return {\"answer\": response.content}\n",
    "\n",
    "\n",
    "# Compile application and test\n",
    "graph_builder = StateGraph(State).add_sequence([retrieve, generate])\n",
    "graph_builder.add_edge(START, \"retrieve\")\n",
    "graph = graph_builder.compile()"
   ]
  },
  {
   "cell_type": "code",
   "execution_count": 22,
   "id": "c8bf0036-7edb-44f5-8e86-f06a688db617",
   "metadata": {},
   "outputs": [
    {
     "name": "stdout",
     "output_type": "stream",
     "text": [
      "{'page': 2, 'page_label': '3', 'source': './data/doc1.pdf', 'start_index': 3997}\n",
      "\n",
      "использования Мобильного приложения Банка определяются настоящими Условиями и/или соглашением, с которым \n",
      "Клиент знакомится перед его использованием.\n",
      "Мобильный Банк — сервис Банка, позволяющий осуществлять взаимодействие Банка и/или его партнеров \n",
      "и Клиента, включая обмен информацией и совершение отдельных операций, через специальные приложения для \n",
      "мобильного устройства (смартфона, планшета и т.п.).\n",
      "\n",
      "{'page': 2, 'page_label': '3', 'source': './data/doc1.pdf', 'start_index': 3566}\n",
      "\n",
      "для совершения Клиентом операций за счет предоставленного Банком Кредита без использования банковского \n",
      "счета Клиента.\n",
      "Мобильное приложение Банка  — приложение для мобильного устройства (смартфона, планшета и т.п.), в том \n",
      "числе Мобильный Банк, позволяющее осуществлять взаимодействие Банка и/или его партнеров и Клиента, включая \n",
      "обмен информацией, направление Заявок и совершение отдельных операций по усмотрению Банка. Условия\n",
      "\n",
      "{'page': 13, 'page_label': '14', 'source': './data/doc1.pdf', 'start_index': 1358}\n",
      "\n",
      "на своем Абонентском устройстве (телефоне, смартфоне, планшете и т.п.) и у своего оператора подвижной связи.\n",
      "4.15. Банк не несет ответственности за работоспособность, безопасность и любые иные последствия использования \n",
      "Мобильного Банка и/или Мобильных приложений Банка на Абонентских устройствах, на которых используется \n",
      "нелицензионное программное обеспечение, Клиент самостоятельно обеспечивает защиту используемых\n",
      "\n",
      "{'page': 1, 'page_label': '2', 'source': './data/doc1.pdf', 'start_index': 1373}\n",
      "\n",
      "денежными средствами, в том числе с использованием Карты (включая карту стороннего банка), Токена или \n",
      "сформированного Клиентом посредством использования Мобильного Банка уникального QR-кода, а также \n",
      "выполнения других операций, при наличии у Банка технической возможности.\n",
      "Виртуальный голосовой помощник (Голосовой помощник)  — сервис Банка, позволяющий, в том числе \n",
      "посредством использования Мобильного приложения Банка, осуществлять взаимодействие Банка, а также его\n",
      "\n"
     ]
    }
   ],
   "source": [
    "result = graph.invoke({\"question\": \"Что такое мобильный банк\"})"
   ]
  },
  {
   "cell_type": "code",
   "execution_count": 23,
   "id": "96da44d1-6c04-48f7-a25a-0e208af94f39",
   "metadata": {
    "editable": true,
    "slideshow": {
     "slide_type": ""
    },
    "tags": []
   },
   "outputs": [
    {
     "name": "stdout",
     "output_type": "stream",
     "text": [
      "Answer: Мобильный банк - это сервис банка, который позволяет клиентам выполнять различные операции через специальные приложения для мобильных устройств (смартфонов, планшетов и т.п.). В частности, с помощью Мобильного Банка можно обмениваться информацией, направлять заявки и совершать отдельные операции по усмотрению банка.\n",
      "\n",
      "Мобильное приложение банка - это приложение для мобильных устройств, которое позволяет клиентам взаимодействовать с банком и его партнерами, включая обмен информацией, направление заявок и совершение отдельных операций.\n"
     ]
    }
   ],
   "source": [
    "print(f'Answer: {result[\"answer\"]}')"
   ]
  },
  {
   "cell_type": "code",
   "execution_count": null,
   "id": "10fe24bc-17f3-44d3-b9a4-7fa44264cefb",
   "metadata": {
    "editable": true,
    "slideshow": {
     "slide_type": ""
    },
    "tags": []
   },
   "outputs": [],
   "source": []
  }
 ],
 "metadata": {
  "kernelspec": {
   "display_name": "AI",
   "language": "python",
   "name": "ai"
  },
  "language_info": {
   "codemirror_mode": {
    "name": "ipython",
    "version": 3
   },
   "file_extension": ".py",
   "mimetype": "text/x-python",
   "name": "python",
   "nbconvert_exporter": "python",
   "pygments_lexer": "ipython3",
   "version": "3.13.1"
  }
 },
 "nbformat": 4,
 "nbformat_minor": 5
}
