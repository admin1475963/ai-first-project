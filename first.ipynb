{
 "cells": [
  {
   "cell_type": "code",
   "execution_count": 20,
   "id": "543370d5-b89f-49c0-b922-07bdf90bd78a",
   "metadata": {},
   "outputs": [],
   "source": [
    "from langchain_community.document_loaders import PyPDFLoader, CSVLoader\n",
    "from langchain_text_splitters import RecursiveCharacterTextSplitter\n",
    "from langchain_ollama import OllamaEmbeddings, ChatOllama\n",
    "from langchain_chroma import Chroma\n",
    "from langchain_core.prompts import PromptTemplate\n",
    "from typing_extensions import List, TypedDict\n",
    "from langchain_core.documents import Document\n",
    "from langgraph.graph import START, StateGraph\n",
    "import getpass\n",
    "import os"
   ]
  },
  {
   "cell_type": "code",
   "execution_count": 21,
   "id": "3bb621d5-6161-4528-b0ed-af6a78d4b9f0",
   "metadata": {},
   "outputs": [],
   "source": [
    "cards_loader = CSVLoader(\"./data/cards.csv\")\n",
    "doc1_loader = PyPDFLoader(\"./data/doc1.pdf\")\n",
    "doc2_loader = PyPDFLoader(\"./data/doc2.pdf\")"
   ]
  },
  {
   "cell_type": "code",
   "execution_count": 22,
   "id": "cf9764fd-4878-4a7f-916d-54965d87b9b5",
   "metadata": {},
   "outputs": [],
   "source": [
    "cards = cards_loader.load()\n",
    "doc1 = doc1_loader.load()\n",
    "doc2 = doc2_loader.load()"
   ]
  },
  {
   "cell_type": "code",
   "execution_count": 23,
   "id": "dff75633-f1f6-429c-b4cf-3ad3cde81fa2",
   "metadata": {},
   "outputs": [],
   "source": [
    "csv_splitter = RecursiveCharacterTextSplitter(\n",
    "    chunk_size=200, chunk_overlap=0, add_start_index=True\n",
    ")\n",
    "text_splitter = RecursiveCharacterTextSplitter(\n",
    "    chunk_size=500, chunk_overlap=50, add_start_index=True\n",
    ")"
   ]
  },
  {
   "cell_type": "code",
   "execution_count": 24,
   "id": "3dfe570e-38b3-4818-99cc-1a646293b93b",
   "metadata": {},
   "outputs": [],
   "source": [
    "card_splits = csv_splitter.split_documents(cards)\n",
    "doc1_splits = text_splitter.split_documents(doc1)\n",
    "doc2_splits = text_splitter.split_documents(doc2)"
   ]
  },
  {
   "cell_type": "code",
   "execution_count": 25,
   "id": "9d160753-d4b9-4ae3-81d1-c6b7e6066f1d",
   "metadata": {},
   "outputs": [],
   "source": [
    "embeddings = OllamaEmbeddings(model=\"nomic-embed-text\")\n",
    "vector_store = Chroma(embedding_function=embeddings)"
   ]
  },
  {
   "cell_type": "code",
   "execution_count": 26,
   "id": "fe0e5ffd-e318-41de-a1f1-035e753cb7f4",
   "metadata": {},
   "outputs": [
    {
     "name": "stdout",
     "output_type": "stream",
     "text": [
      "25\n"
     ]
    }
   ],
   "source": [
    "print(len(card_splits))"
   ]
  },
  {
   "cell_type": "code",
   "execution_count": 27,
   "id": "866dacd7-f3e1-4a2b-88d6-5995aa6f2f78",
   "metadata": {},
   "outputs": [
    {
     "name": "stdout",
     "output_type": "stream",
     "text": [
      "Cards done\n",
      "doc1 done\n",
      "doc2 done\n"
     ]
    }
   ],
   "source": [
    "_ = vector_store.add_documents(documents=card_splits)\n",
    "print(\"Cards done\")\n",
    "_ = vector_store.add_documents(documents=doc1_splits)\n",
    "print(\"doc1 done\")\n",
    "_ = vector_store.add_documents(documents=doc2_splits)\n",
    "print(\"doc2 done\")"
   ]
  },
  {
   "cell_type": "code",
   "execution_count": 28,
   "id": "42cad18a-cdc9-4747-a288-b66fec106b22",
   "metadata": {},
   "outputs": [],
   "source": [
    "prompt = PromptTemplate.from_template(\n",
    "    \"\"\"\n",
    "    Ты помощник-ассистент, который отвечает на вопросы клиента. Используя следующий контекст для информации и ответь на вопрос клиента.\n",
    "    Если ты не знаешь или не нашел ответа, так и скажи.\n",
    "    Вопрос: {question} \n",
    "    Контекст: {context} \n",
    "    Ответ:\n",
    "    \"\"\"\n",
    ")"
   ]
  },
  {
   "cell_type": "code",
   "execution_count": 29,
   "id": "3b7e7e63-bf50-405e-89b1-239f21c51147",
   "metadata": {},
   "outputs": [],
   "source": [
    "llm = ChatOllama(model=\"llama3.1:8b\")"
   ]
  },
  {
   "cell_type": "code",
   "execution_count": 30,
   "id": "666a1ff5-196d-4b38-9c2d-8676fd97e44a",
   "metadata": {},
   "outputs": [],
   "source": [
    "# Define state for application\n",
    "class State(TypedDict):\n",
    "    question: str\n",
    "    context: List[Document]\n",
    "    answer: str\n",
    "\n",
    "\n",
    "# Define application steps\n",
    "def retrieve(state: State):\n",
    "    retrieved_docs = vector_store.similarity_search(state[\"question\"], filter={\"source\": \"./data/doc1.pdf\"}, k=10)\n",
    "    print(retrieved_docs)\n",
    "    return {\"context\": retrieved_docs}\n",
    "\n",
    "\n",
    "def generate(state: State):\n",
    "    docs_content = \"\\n\\n\".join(doc.page_content for doc in state[\"context\"])\n",
    "    messages = prompt.invoke({\"question\": state[\"question\"], \"context\": docs_content})\n",
    "    response = llm.invoke(messages)\n",
    "    return {\"answer\": response.content}\n",
    "\n",
    "\n",
    "# Compile application and test\n",
    "graph_builder = StateGraph(State).add_sequence([retrieve, generate])\n",
    "graph_builder.add_edge(START, \"retrieve\")\n",
    "graph = graph_builder.compile()"
   ]
  },
  {
   "cell_type": "code",
   "execution_count": null,
   "id": "c8bf0036-7edb-44f5-8e86-f06a688db617",
   "metadata": {},
   "outputs": [],
   "source": [
    "result = graph.invoke({\"question\": \"Сколько мне будет стоит смски с оповещением об операциях\"})"
   ]
  },
  {
   "cell_type": "code",
   "execution_count": null,
   "id": "96da44d1-6c04-48f7-a25a-0e208af94f39",
   "metadata": {},
   "outputs": [],
   "source": [
    "print(f'Context: {result[\"context\"]}\\n\\n')\n",
    "print(f'Answer: {result[\"answer\"]}')"
   ]
  },
  {
   "cell_type": "code",
   "execution_count": null,
   "id": "10fe24bc-17f3-44d3-b9a4-7fa44264cefb",
   "metadata": {},
   "outputs": [],
   "source": []
  }
 ],
 "metadata": {
  "kernelspec": {
   "display_name": "AI",
   "language": "python",
   "name": "ai"
  },
  "language_info": {
   "codemirror_mode": {
    "name": "ipython",
    "version": 3
   },
   "file_extension": ".py",
   "mimetype": "text/x-python",
   "name": "python",
   "nbconvert_exporter": "python",
   "pygments_lexer": "ipython3",
   "version": "3.13.1"
  }
 },
 "nbformat": 4,
 "nbformat_minor": 5
}
