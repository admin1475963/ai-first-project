{
 "cells": [
  {
   "cell_type": "code",
   "execution_count": 22,
   "id": "543370d5-b89f-49c0-b922-07bdf90bd78a",
   "metadata": {
    "editable": true,
    "slideshow": {
     "slide_type": ""
    },
    "tags": []
   },
   "outputs": [],
   "source": [
    "from langchain_community.document_loaders import PyPDFLoader, CSVLoader\n",
    "from langchain_text_splitters import RecursiveCharacterTextSplitter\n",
    "from langchain_google_genai import GoogleGenerativeAI\n",
    "from langchain_google_genai import GoogleGenerativeAIEmbeddings\n",
    "from langchain_ollama import OllamaEmbeddings, ChatOllama\n",
    "from langchain_openai import OpenAIEmbeddings, ChatOpenAI\n",
    "from langchain_huggingface import HuggingFaceEmbeddings\n",
    "from langchain_chroma import Chroma\n",
    "from langchain_core.prompts import PromptTemplate\n",
    "from typing_extensions import List, TypedDict\n",
    "from typing import Iterator\n",
    "from langchain_core.documents import Document\n",
    "from langgraph.graph import START, StateGraph\n",
    "import getpass\n",
    "import os"
   ]
  },
  {
   "cell_type": "code",
   "execution_count": 2,
   "id": "3bb621d5-6161-4528-b0ed-af6a78d4b9f0",
   "metadata": {},
   "outputs": [],
   "source": [
    "cards_loader = CSVLoader(\"./data/cards.csv\")\n",
    "doc1_loader = PyPDFLoader(\"./data/doc1.pdf\")\n",
    "doc2_loader = PyPDFLoader(\"./data/doc2.pdf\")"
   ]
  },
  {
   "cell_type": "code",
   "execution_count": 3,
   "id": "cf9764fd-4878-4a7f-916d-54965d87b9b5",
   "metadata": {},
   "outputs": [],
   "source": [
    "cards = cards_loader.load()\n",
    "doc1 = doc1_loader.load()\n",
    "doc2 = doc2_loader.load()"
   ]
  },
  {
   "cell_type": "code",
   "execution_count": 4,
   "id": "dff75633-f1f6-429c-b4cf-3ad3cde81fa2",
   "metadata": {
    "editable": true,
    "slideshow": {
     "slide_type": ""
    },
    "tags": []
   },
   "outputs": [],
   "source": [
    "csv_splitter = RecursiveCharacterTextSplitter(\n",
    "    chunk_size=200, chunk_overlap=20, add_start_index=True\n",
    ")\n",
    "text_splitter = RecursiveCharacterTextSplitter(\n",
    "    chunk_size=500, chunk_overlap=50, add_start_index=True\n",
    ")"
   ]
  },
  {
   "cell_type": "code",
   "execution_count": 5,
   "id": "3dfe570e-38b3-4818-99cc-1a646293b93b",
   "metadata": {
    "editable": true,
    "slideshow": {
     "slide_type": ""
    },
    "tags": []
   },
   "outputs": [],
   "source": [
    "card_splits = csv_splitter.split_documents(cards)\n",
    "doc1_splits = text_splitter.split_documents(doc1)\n",
    "doc2_splits = text_splitter.split_documents(doc2)"
   ]
  },
  {
   "cell_type": "code",
   "execution_count": 7,
   "id": "fa4f9792-e88e-4d99-91b5-9bd4a4e1733e",
   "metadata": {},
   "outputs": [
    {
     "name": "stdin",
     "output_type": "stream",
     "text": [
      "Enter API key for OpenAI:  ········\n"
     ]
    }
   ],
   "source": [
    "if not os.environ.get(\"OPENAI_API_KEY\"):\n",
    "  os.environ[\"OPENAI_API_KEY\"] = getpass.getpass(\"Enter API key for OpenAI: \")"
   ]
  },
  {
   "cell_type": "code",
   "execution_count": null,
   "id": "e526e136-53ba-4baa-a696-f64817df14c9",
   "metadata": {},
   "outputs": [],
   "source": []
  },
  {
   "cell_type": "code",
   "execution_count": 8,
   "id": "9d160753-d4b9-4ae3-81d1-c6b7e6066f1d",
   "metadata": {
    "editable": true,
    "slideshow": {
     "slide_type": ""
    },
    "tags": []
   },
   "outputs": [],
   "source": [
    "embeddings = OpenAIEmbeddings(model=\"text-embedding-3-large\")\n",
    "vector_store = Chroma(embedding_function=embeddings, persist_directory=\"./vdb\")"
   ]
  },
  {
   "cell_type": "code",
   "execution_count": 14,
   "id": "866dacd7-f3e1-4a2b-88d6-5995aa6f2f78",
   "metadata": {
    "editable": true,
    "slideshow": {
     "slide_type": ""
    },
    "tags": []
   },
   "outputs": [
    {
     "name": "stdout",
     "output_type": "stream",
     "text": [
      "Cards done\n",
      "doc1 done\n",
      "doc2 done\n"
     ]
    }
   ],
   "source": [
    "#_ = vector_store.add_documents(documents=card_splits)\n",
    "print(\"Cards done\")\n",
    "#_ = vector_store.add_documents(documents=doc1_splits)\n",
    "print(\"doc1 done\")\n",
    "#_ = vector_store.add_documents(documents=doc2_splits)\n",
    "print(\"doc2 done\")"
   ]
  },
  {
   "cell_type": "code",
   "execution_count": 10,
   "id": "42cad18a-cdc9-4747-a288-b66fec106b22",
   "metadata": {
    "editable": true,
    "slideshow": {
     "slide_type": ""
    },
    "tags": []
   },
   "outputs": [],
   "source": [
    "prompt = PromptTemplate.from_template(\n",
    "    \"\"\"\n",
    "    Ты помощник-ассистент, который отвечает на вопросы клиента.\n",
    "    Отвечай используя только следующий контекст.\n",
    "    Если ты не знаешь или не нашел ответа, так и скажи.\n",
    "    Если ты нашел несколько ответов, то расскажи о каждой из них.\n",
    "    Вопрос: {question} \n",
    "    Контекст: {context} \n",
    "    Ответ:\n",
    "    \"\"\"\n",
    ")"
   ]
  },
  {
   "cell_type": "code",
   "execution_count": 23,
   "id": "3b7e7e63-bf50-405e-89b1-239f21c51147",
   "metadata": {
    "editable": true,
    "slideshow": {
     "slide_type": ""
    },
    "tags": []
   },
   "outputs": [],
   "source": [
    "llm = ChatOpenAI(model=\"gpt-4o-mini\")"
   ]
  },
  {
   "cell_type": "code",
   "execution_count": 24,
   "id": "666a1ff5-196d-4b38-9c2d-8676fd97e44a",
   "metadata": {
    "editable": true,
    "slideshow": {
     "slide_type": ""
    },
    "tags": []
   },
   "outputs": [],
   "source": [
    "# Define state for application\n",
    "class State(TypedDict):\n",
    "    question: str\n",
    "    context: List[Document]\n",
    "    answer: str\n",
    "\n",
    "\n",
    "# Define application steps\n",
    "def retrieve(state: State):\n",
    "    retrieved_docs = vector_store.similarity_search(state[\"question\"])\n",
    "    for doc in retrieved_docs:\n",
    "        print(f\"{doc.metadata}\\n\")\n",
    "        print(f\"{doc.page_content}\\n\")\n",
    "    return {\"context\": retrieved_docs}\n",
    "\n",
    "\n",
    "def generate(state: State):\n",
    "    docs_content = \"\\n\\n\".join(doc.page_content for doc in state[\"context\"])\n",
    "    messages = prompt.invoke({\"question\": state[\"question\"], \"context\": docs_content})\n",
    "    response = llm.invoke(messages)\n",
    "    return {\"answer\": response.content}\n",
    "\n",
    "\n",
    "# Compile application and test\n",
    "graph_builder = StateGraph(State).add_sequence([retrieve, generate])\n",
    "graph_builder.add_edge(START, \"retrieve\")\n",
    "graph = graph_builder.compile()"
   ]
  },
  {
   "cell_type": "code",
   "execution_count": 28,
   "id": "c8bf0036-7edb-44f5-8e86-f06a688db617",
   "metadata": {
    "editable": true,
    "slideshow": {
     "slide_type": ""
    },
    "tags": []
   },
   "outputs": [
    {
     "name": "stdout",
     "output_type": "stream",
     "text": [
      "{'page': 38, 'page_label': '39', 'source': './data/doc1.pdf', 'start_index': 5042}\n",
      "\n",
      "рабочих дней с даты наступления любого из указанных событий.\n",
      "\n",
      "{'page': 54, 'page_label': '55', 'source': './data/doc1.pdf', 'start_index': 1425}\n",
      "\n",
      "h. прохождения срочной военной службы, военных сборов.\n",
      "5.2. Страховое покрытие по рискам «Смерть» и «Инвалидность» также не распространяется на события, произошедшие \n",
      "в результате проведения операции и (или) госпитализации, которые прямо связаны:\n",
      "a. с врожденными аномалиями или возникшими вследствие них заболеваниями;\n",
      "b. с переменой пола, со стерилизацией, лечением бесплодия, прерыванием беременности не по медицинским \n",
      "показаниям;\n",
      "\n",
      "{'page': 53, 'page_label': '54', 'source': './data/doc1.pdf', 'start_index': 2576}\n",
      "\n",
      "в отношении данного Застрахованного лица.\n",
      "• Болезнь, следствием которой она явилась, диагностирована в Период страхования, установленный в отношении \n",
      "данного Застрахованного лица и не ранее Даты первичного подключения к Программе страхования (в случае \n",
      "отсутствия Перерыва страхования более 90 (девяноста) дней) или Даты обновленного подключения после \n",
      "перерыва (в случае Перерыва страхования более 90 (девяноста) дней).\n",
      "4. При наступлении страхового события Застрахованному лицу или его\n",
      "\n",
      "{'page': 48, 'page_label': '49', 'source': './data/doc1.pdf', 'start_index': 856}\n",
      "\n",
      "Застрахованный ранее был включен в Программу страхования и не был исключен из Программы страхования. \n",
      "Расчетный период определяется в соответствии с Условиями комплексного банковского обслуживания физических \n",
      "лиц АО «Тинькофф Банк».\n",
      "1.9. Дата ежемесячного подключения  — первый день соответствующего Периода Страхования.\n",
      "1.10. Дата первичного подключения к Программе страхования  — дата самого первого подключения к Программе\n",
      "\n",
      "В контексте, который вы предоставили, нет информации о дате рождения Наполеона. Я не могу ответить на ваш вопрос.\n"
     ]
    }
   ],
   "source": [
    "result = graph.invoke({\"question\": \"Когда родился Наполеон\"})\n",
    "print(result[\"answer\"])"
   ]
  },
  {
   "cell_type": "code",
   "execution_count": null,
   "id": "50fe8672-c12e-4e7c-83ce-c205a774623b",
   "metadata": {},
   "outputs": [],
   "source": []
  }
 ],
 "metadata": {
  "kernelspec": {
   "display_name": "AI",
   "language": "python",
   "name": "ai"
  },
  "language_info": {
   "codemirror_mode": {
    "name": "ipython",
    "version": 3
   },
   "file_extension": ".py",
   "mimetype": "text/x-python",
   "name": "python",
   "nbconvert_exporter": "python",
   "pygments_lexer": "ipython3",
   "version": "3.13.1"
  }
 },
 "nbformat": 4,
 "nbformat_minor": 5
}
