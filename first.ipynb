{
 "cells": [
  {
   "cell_type": "code",
   "execution_count": 33,
   "id": "543370d5-b89f-49c0-b922-07bdf90bd78a",
   "metadata": {
    "editable": true,
    "slideshow": {
     "slide_type": ""
    },
    "tags": []
   },
   "outputs": [],
   "source": [
    "from langchain_community.document_loaders import PyPDFLoader, CSVLoader\n",
    "from langchain_text_splitters import RecursiveCharacterTextSplitter\n",
    "from langchain_ollama import OllamaEmbeddings, ChatOllama\n",
    "from langchain_huggingface import HuggingFaceEmbeddings\n",
    "from langchain_google_vertexai import VertexAIEmbeddings, ChatVertexAI\n",
    "from langchain_chroma import Chroma\n",
    "from langchain_core.prompts import PromptTemplate\n",
    "from typing_extensions import List, TypedDict\n",
    "from typing import Iterator\n",
    "from langchain_core.documents import Document\n",
    "from langgraph.graph import START, StateGraph\n",
    "import getpass\n",
    "import os"
   ]
  },
  {
   "cell_type": "code",
   "execution_count": 34,
   "id": "9554fb9c-18a8-42fe-9ba7-ca15c954f285",
   "metadata": {},
   "outputs": [],
   "source": [
    "#if not os.environ.get(\"GEMINI_API_KEY\"):\n",
    "  #os.environ[\"GEMINI_API_KEY\"] = getpass.getpass(\"Enter API key for GEMINI: \")"
   ]
  },
  {
   "cell_type": "code",
   "execution_count": 35,
   "id": "3bb621d5-6161-4528-b0ed-af6a78d4b9f0",
   "metadata": {},
   "outputs": [],
   "source": [
    "cards_loader = CSVLoader(\"./data/cards.csv\")\n",
    "doc1_loader = PyPDFLoader(\"./data/doc1.pdf\")\n",
    "doc2_loader = PyPDFLoader(\"./data/doc2.pdf\")"
   ]
  },
  {
   "cell_type": "code",
   "execution_count": 36,
   "id": "cf9764fd-4878-4a7f-916d-54965d87b9b5",
   "metadata": {},
   "outputs": [],
   "source": [
    "cards = cards_loader.load()\n",
    "doc1 = doc1_loader.load()\n",
    "doc2 = doc2_loader.load()"
   ]
  },
  {
   "cell_type": "code",
   "execution_count": 37,
   "id": "dff75633-f1f6-429c-b4cf-3ad3cde81fa2",
   "metadata": {
    "editable": true,
    "slideshow": {
     "slide_type": ""
    },
    "tags": []
   },
   "outputs": [],
   "source": [
    "csv_splitter = RecursiveCharacterTextSplitter(\n",
    "    chunk_size=200, chunk_overlap=0, add_start_index=True\n",
    ")\n",
    "text_splitter = RecursiveCharacterTextSplitter(\n",
    "    chunk_size=500, chunk_overlap=20, add_start_index=True\n",
    ")"
   ]
  },
  {
   "cell_type": "code",
   "execution_count": 38,
   "id": "3dfe570e-38b3-4818-99cc-1a646293b93b",
   "metadata": {
    "editable": true,
    "slideshow": {
     "slide_type": ""
    },
    "tags": []
   },
   "outputs": [],
   "source": [
    "card_splits = csv_splitter.split_documents(cards)\n",
    "doc1_splits = text_splitter.split_documents(doc1)\n",
    "doc2_splits = text_splitter.split_documents(doc2)"
   ]
  },
  {
   "cell_type": "code",
   "execution_count": 39,
   "id": "3dce534a-80fe-4b3b-a073-6472a5a55d1f",
   "metadata": {},
   "outputs": [
    {
     "data": {
      "text/plain": [
       "745"
      ]
     },
     "execution_count": 39,
     "metadata": {},
     "output_type": "execute_result"
    }
   ],
   "source": [
    "len(doc1_splits)"
   ]
  },
  {
   "cell_type": "code",
   "execution_count": 40,
   "id": "9d160753-d4b9-4ae3-81d1-c6b7e6066f1d",
   "metadata": {
    "editable": true,
    "slideshow": {
     "slide_type": ""
    },
    "tags": []
   },
   "outputs": [],
   "source": [
    "embeddings = HuggingFaceEmbeddings(model_name=\"ai-forever/sbert_large_nlu_ru\")\n",
    "vector_store = Chroma(embedding_function=embeddings, persist_directory=\"./vdb\")"
   ]
  },
  {
   "cell_type": "code",
   "execution_count": 41,
   "id": "866dacd7-f3e1-4a2b-88d6-5995aa6f2f78",
   "metadata": {
    "editable": true,
    "slideshow": {
     "slide_type": ""
    },
    "tags": []
   },
   "outputs": [
    {
     "name": "stdout",
     "output_type": "stream",
     "text": [
      "Cards done\n",
      "doc1 done\n",
      "doc2 done\n"
     ]
    }
   ],
   "source": [
    "# _ = vector_store.add_documents(documents=card_splits)\n",
    "print(\"Cards done\")\n",
    "# _ = vector_store.add_documents(documents=doc1_splits)\n",
    "print(\"doc1 done\")\n",
    "# _ = vector_store.add_documents(documents=doc2_splits)\n",
    "print(\"doc2 done\")"
   ]
  },
  {
   "cell_type": "code",
   "execution_count": 42,
   "id": "42cad18a-cdc9-4747-a288-b66fec106b22",
   "metadata": {
    "editable": true,
    "slideshow": {
     "slide_type": ""
    },
    "tags": []
   },
   "outputs": [],
   "source": [
    "prompt = PromptTemplate.from_template(\n",
    "    \"\"\"\n",
    "    Ты помощник-ассистент, который отвечает на вопросы клиента.\n",
    "    Отвечай используя только следующий контекст.\n",
    "    Если ты не знаешь или не нашел ответа, так и скажи.\n",
    "    Если ты нашел несколько ответов, то расскажи о каждой из них.\n",
    "    Вопрос: {question} \n",
    "    Контекст: {context} \n",
    "    Ответ:\n",
    "    \"\"\"\n",
    ")"
   ]
  },
  {
   "cell_type": "code",
   "execution_count": 43,
   "id": "3b7e7e63-bf50-405e-89b1-239f21c51147",
   "metadata": {
    "editable": true,
    "slideshow": {
     "slide_type": ""
    },
    "tags": []
   },
   "outputs": [],
   "source": [
    "llm = ChatOllama(model=\"llama3.1:8b\")"
   ]
  },
  {
   "cell_type": "code",
   "execution_count": 49,
   "id": "666a1ff5-196d-4b38-9c2d-8676fd97e44a",
   "metadata": {
    "editable": true,
    "slideshow": {
     "slide_type": ""
    },
    "tags": []
   },
   "outputs": [],
   "source": [
    "# Define state for application\n",
    "class State(TypedDict):\n",
    "    question: str\n",
    "    context: List[Document]\n",
    "    answer: str\n",
    "\n",
    "\n",
    "# Define application steps\n",
    "def retrieve(state: State):\n",
    "    retrieved_docs = vector_store.similarity_search(state[\"question\"])\n",
    "    for doc in retrieved_docs:\n",
    "        print(f\"{doc.metadata}\\n\")\n",
    "        print(f\"{doc.page_content}\\n\")\n",
    "    return {\"context\": retrieved_docs}\n",
    "\n",
    "\n",
    "def generate(state: State):\n",
    "    docs_content = \"\\n\\n\".join(doc.page_content for doc in state[\"context\"])\n",
    "    messages = prompt.invoke({\"question\": state[\"question\"], \"context\": docs_content})\n",
    "    response = llm.invoke(messages)\n",
    "    return {\"answer\": response.content}\n",
    "\n",
    "\n",
    "# Compile application and test\n",
    "graph_builder = StateGraph(State).add_sequence([retrieve, generate])\n",
    "graph_builder.add_edge(START, \"retrieve\")\n",
    "graph = graph_builder.compile()"
   ]
  },
  {
   "cell_type": "code",
   "execution_count": 50,
   "id": "c8bf0036-7edb-44f5-8e86-f06a688db617",
   "metadata": {
    "editable": true,
    "slideshow": {
     "slide_type": ""
    },
    "tags": []
   },
   "outputs": [
    {
     "name": "stdout",
     "output_type": "stream",
     "text": [
      "{'row': 15, 'source': './data/cards.csv', 'start_index': 0}\n",
      "\n",
      "Service: Плата за услугу «Оповещение об операциях»\n",
      "Condition: в прочих случаях\n",
      "Tariff: 99 руб. в месяц\n",
      "\n",
      "{'row': 14, 'source': './data/cards.csv', 'start_index': 0}\n",
      "\n",
      "Service: Плата за услугу «Оповещение об операциях»\n",
      "Condition: с абонентским номером Тинькофф Мобайл\n",
      "Tariff: 59 руб. в месяц\n",
      "\n",
      "{'row': 13, 'source': './data/cards.csv', 'start_index': 0}\n",
      "\n",
      "Service: Плата за обслуживание\n",
      "Condition: в прочих случаях\n",
      "Tariff: 99 руб. в месяц\n",
      "\n",
      "{'row': 8, 'source': './data/cards.csv', 'start_index': 0}\n",
      "\n",
      "Service: Пополнение\n",
      "Condition: у партнеров Тинькофф до 150 000 руб. за расчетный период\n",
      "Tariff: Бесплатно\n",
      "\n",
      "По контексту я нашел несколько ответов:\n",
      "\n",
      "1. В прочих случаях плата за услугу «Оповещение об операциях» составляет 99 рублей в месяц.\n",
      "2. Если у клиента абонентский номер Тинькофф Мобайл, то плата за эту услугу составит 59 рублей в месяц.\n",
      "\n",
      "Я не нашел информации о том, что плата за оповещение об операциях может быть бесплатной или имеет другие условия. Если вы хотите уточнить или получить более подробную информацию, я готов помочь!\n"
     ]
    }
   ],
   "source": [
    "result = graph.invoke({\"question\": \"Сколько стоит оповещение об операциях\"})\n",
    "print(result[\"answer\"])"
   ]
  },
  {
   "cell_type": "code",
   "execution_count": null,
   "id": "c896d68a-87b6-4a80-8895-157763d7d452",
   "metadata": {},
   "outputs": [],
   "source": []
  }
 ],
 "metadata": {
  "kernelspec": {
   "display_name": "AI",
   "language": "python",
   "name": "ai"
  },
  "language_info": {
   "codemirror_mode": {
    "name": "ipython",
    "version": 3
   },
   "file_extension": ".py",
   "mimetype": "text/x-python",
   "name": "python",
   "nbconvert_exporter": "python",
   "pygments_lexer": "ipython3",
   "version": "3.13.1"
  }
 },
 "nbformat": 4,
 "nbformat_minor": 5
}
